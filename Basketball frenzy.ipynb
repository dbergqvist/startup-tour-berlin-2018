{
 "cells": [
  {
   "cell_type": "markdown",
   "metadata": {},
   "source": [
    "# Step one: Set up Datalab"
   ]
  },
  {
   "cell_type": "code",
   "execution_count": null,
   "metadata": {
    "codeCollapsed": false,
    "hiddenCell": true
   },
   "outputs": [],
   "source": [
    "!pip install --upgrade google-cloud-bigquery"
   ]
  },
  {
   "cell_type": "code",
   "execution_count": 13,
   "metadata": {},
   "outputs": [],
   "source": [
    "from google.cloud import bigquery\n",
    "client = bigquery.Client()"
   ]
  },
  {
   "cell_type": "markdown",
   "metadata": {},
   "source": [
    "# Step two: Create your dataset"
   ]
  },
  {
   "cell_type": "code",
   "execution_count": null,
   "metadata": {
    "hiddenCell": true
   },
   "outputs": [],
   "source": [
    "dataset = bigquery.Dataset(client.dataset('basketball_frenzy'))\n",
    "dataset.location = 'US'\n",
    "client.create_dataset(dataset)"
   ]
  },
  {
   "cell_type": "markdown",
   "metadata": {},
   "source": [
    "# Step three: Generate your training and feature data"
   ]
  },
  {
   "cell_type": "markdown",
   "metadata": {},
   "source": [
    "## Generate the input features (feature engineering)\n",
    "The input features include the mean and standard deviation of previous game statistics for both home teams and away teams using different time windows. The time windows used are 10, 5 and 1 games before the current game.\n",
    "\n",
    "[Open the feature input query](https://bigquery.cloud.google.com/savedquery/1057666841514:77711b21274b4c6485c907483ef2f6fe)"
   ]
  },
  {
   "cell_type": "markdown",
   "metadata": {},
   "source": [
    "## Generate your training data\n",
    "After generating the input features, we generate our training data. The training data is written to the basketball_frenzy.wide_games table. When we generate our training data, we exclude a game to use for predicting outcomes.\n",
    "\n",
    "[Open the training data query](https://bigquery.cloud.google.com/savedquery/1057666841514:9d4ec2ed8a864e7e8d8c3c9a65faa178)"
   ]
  },
  {
   "cell_type": "markdown",
   "metadata": {},
   "source": [
    "# Step four: Create your model"
   ]
  },
  {
   "cell_type": "markdown",
   "metadata": {},
   "source": [
    "Next, we create a linear regression model. The model is used to predict the combined three point goal attempts based on the previous game statistics."
   ]
  },
  {
   "cell_type": "code",
   "execution_count": 15,
   "metadata": {},
   "outputs": [],
   "source": [
    "%reload_ext google.cloud.bigquery"
   ]
  },
  {
   "cell_type": "markdown",
   "metadata": {},
   "source": [
    "## Create and train the model"
   ]
  },
  {
   "cell_type": "markdown",
   "metadata": {},
   "source": [
    "The model is used to predict the combined three point field goal attempts based on the previous game statistics."
   ]
  },
  {
   "cell_type": "code",
   "execution_count": 17,
   "metadata": {
    "hiddenCell": true
   },
   "outputs": [
    {
     "data": {
      "text/html": [
       "<div>\n",
       "<style scoped>\n",
       "    .dataframe tbody tr th:only-of-type {\n",
       "        vertical-align: middle;\n",
       "    }\n",
       "\n",
       "    .dataframe tbody tr th {\n",
       "        vertical-align: top;\n",
       "    }\n",
       "\n",
       "    .dataframe thead th {\n",
       "        text-align: right;\n",
       "    }\n",
       "</style>\n",
       "<table border=\"1\" class=\"dataframe\">\n",
       "  <thead>\n",
       "    <tr style=\"text-align: right;\">\n",
       "      <th></th>\n",
       "    </tr>\n",
       "  </thead>\n",
       "  <tbody>\n",
       "  </tbody>\n",
       "</table>\n",
       "</div>"
      ],
      "text/plain": [
       "Empty DataFrame\n",
       "Columns: []\n",
       "Index: []"
      ]
     },
     "execution_count": 17,
     "metadata": {},
     "output_type": "execute_result"
    }
   ],
   "source": [
    "%%bigquery\n",
    "CREATE OR REPLACE MODEL `basketball_frenzy.ncaa_model` OPTIONS(\n",
    "  model_type='linear_reg', data_split_method='random', data_split_eval_fraction=0.1, max_iteration=50) AS\n",
    "SELECT\n",
    "  * EXCEPT(\n",
    "    game_id, season, scheduled_date,\n",
    "    total_three_points_made,\n",
    "    total_three_points_att),\n",
    "  total_three_points_att as label\n",
    "FROM\n",
    "  `basketball_frenzy.wide_games`\n",
    "WHERE\n",
    "  # remove the game to predict\n",
    "  game_id != 'f1063e80-23c7-486b-9a5e-faa52beb2d83'"
   ]
  },
  {
   "cell_type": "markdown",
   "metadata": {},
   "source": [
    "# Step five: Get training statistics"
   ]
  },
  {
   "cell_type": "code",
   "execution_count": 43,
   "metadata": {},
   "outputs": [
    {
     "data": {
      "text/html": [
       "<div>\n",
       "<style scoped>\n",
       "    .dataframe tbody tr th:only-of-type {\n",
       "        vertical-align: middle;\n",
       "    }\n",
       "\n",
       "    .dataframe tbody tr th {\n",
       "        vertical-align: top;\n",
       "    }\n",
       "\n",
       "    .dataframe thead th {\n",
       "        text-align: right;\n",
       "    }\n",
       "</style>\n",
       "<table border=\"1\" class=\"dataframe\">\n",
       "  <thead>\n",
       "    <tr style=\"text-align: right;\">\n",
       "      <th></th>\n",
       "      <th>training_run</th>\n",
       "      <th>iteration</th>\n",
       "      <th>loss</th>\n",
       "      <th>eval_loss</th>\n",
       "      <th>duration_ms</th>\n",
       "      <th>learning_rate</th>\n",
       "    </tr>\n",
       "  </thead>\n",
       "  <tbody>\n",
       "    <tr>\n",
       "      <th>0</th>\n",
       "      <td>0</td>\n",
       "      <td>9</td>\n",
       "      <td>47.777819</td>\n",
       "      <td>101.602688</td>\n",
       "      <td>8937</td>\n",
       "      <td>0.10</td>\n",
       "    </tr>\n",
       "    <tr>\n",
       "      <th>1</th>\n",
       "      <td>0</td>\n",
       "      <td>8</td>\n",
       "      <td>55.269309</td>\n",
       "      <td>121.930399</td>\n",
       "      <td>7381</td>\n",
       "      <td>0.05</td>\n",
       "    </tr>\n",
       "    <tr>\n",
       "      <th>2</th>\n",
       "      <td>0</td>\n",
       "      <td>7</td>\n",
       "      <td>65.000100</td>\n",
       "      <td>123.197775</td>\n",
       "      <td>7509</td>\n",
       "      <td>0.05</td>\n",
       "    </tr>\n",
       "    <tr>\n",
       "      <th>3</th>\n",
       "      <td>0</td>\n",
       "      <td>6</td>\n",
       "      <td>78.562554</td>\n",
       "      <td>148.182288</td>\n",
       "      <td>10866</td>\n",
       "      <td>0.05</td>\n",
       "    </tr>\n",
       "    <tr>\n",
       "      <th>4</th>\n",
       "      <td>0</td>\n",
       "      <td>5</td>\n",
       "      <td>97.614917</td>\n",
       "      <td>151.837730</td>\n",
       "      <td>6750</td>\n",
       "      <td>0.05</td>\n",
       "    </tr>\n",
       "    <tr>\n",
       "      <th>5</th>\n",
       "      <td>0</td>\n",
       "      <td>4</td>\n",
       "      <td>124.627608</td>\n",
       "      <td>199.294534</td>\n",
       "      <td>7778</td>\n",
       "      <td>0.05</td>\n",
       "    </tr>\n",
       "    <tr>\n",
       "      <th>6</th>\n",
       "      <td>0</td>\n",
       "      <td>3</td>\n",
       "      <td>163.408474</td>\n",
       "      <td>209.782692</td>\n",
       "      <td>7614</td>\n",
       "      <td>0.05</td>\n",
       "    </tr>\n",
       "    <tr>\n",
       "      <th>7</th>\n",
       "      <td>0</td>\n",
       "      <td>2</td>\n",
       "      <td>220.265712</td>\n",
       "      <td>303.716457</td>\n",
       "      <td>8564</td>\n",
       "      <td>0.05</td>\n",
       "    </tr>\n",
       "    <tr>\n",
       "      <th>8</th>\n",
       "      <td>0</td>\n",
       "      <td>1</td>\n",
       "      <td>308.056427</td>\n",
       "      <td>336.275917</td>\n",
       "      <td>7909</td>\n",
       "      <td>0.05</td>\n",
       "    </tr>\n",
       "    <tr>\n",
       "      <th>9</th>\n",
       "      <td>0</td>\n",
       "      <td>0</td>\n",
       "      <td>525.217596</td>\n",
       "      <td>624.339335</td>\n",
       "      <td>5877</td>\n",
       "      <td>0.20</td>\n",
       "    </tr>\n",
       "  </tbody>\n",
       "</table>\n",
       "</div>"
      ],
      "text/plain": [
       "   training_run  iteration        loss   eval_loss  duration_ms  learning_rate\n",
       "0             0          9   47.777819  101.602688         8937           0.10\n",
       "1             0          8   55.269309  121.930399         7381           0.05\n",
       "2             0          7   65.000100  123.197775         7509           0.05\n",
       "3             0          6   78.562554  148.182288        10866           0.05\n",
       "4             0          5   97.614917  151.837730         6750           0.05\n",
       "5             0          4  124.627608  199.294534         7778           0.05\n",
       "6             0          3  163.408474  209.782692         7614           0.05\n",
       "7             0          2  220.265712  303.716457         8564           0.05\n",
       "8             0          1  308.056427  336.275917         7909           0.05\n",
       "9             0          0  525.217596  624.339335         5877           0.20"
      ]
     },
     "execution_count": 43,
     "metadata": {},
     "output_type": "execute_result"
    }
   ],
   "source": [
    "%%bigquery\n",
    "SELECT\n",
    "  *\n",
    "FROM\n",
    "  ML.TRAINING_INFO(MODEL `basketball_frenzy.ncaa_model`)"
   ]
  },
  {
   "cell_type": "markdown",
   "metadata": {},
   "source": [
    "The Training Data Loss column represents the loss metric calculated after the given iteration on the training dataset. Since we performed a linear regression, this column is the mean squared error. The Evaluation Data Loss column is the same loss metric calculated on the holdout dataset (data that is held back from training to validate the model)."
   ]
  },
  {
   "cell_type": "markdown",
   "metadata": {},
   "source": [
    "# Step six: Evaluate your model"
   ]
  },
  {
   "cell_type": "code",
   "execution_count": 44,
   "metadata": {},
   "outputs": [
    {
     "data": {
      "text/html": [
       "<div>\n",
       "<style scoped>\n",
       "    .dataframe tbody tr th:only-of-type {\n",
       "        vertical-align: middle;\n",
       "    }\n",
       "\n",
       "    .dataframe tbody tr th {\n",
       "        vertical-align: top;\n",
       "    }\n",
       "\n",
       "    .dataframe thead th {\n",
       "        text-align: right;\n",
       "    }\n",
       "</style>\n",
       "<table border=\"1\" class=\"dataframe\">\n",
       "  <thead>\n",
       "    <tr style=\"text-align: right;\">\n",
       "      <th></th>\n",
       "      <th>mean_absolute_error</th>\n",
       "      <th>mean_squared_error</th>\n",
       "      <th>mean_squared_log_error</th>\n",
       "      <th>median_absolute_error</th>\n",
       "      <th>r2_score</th>\n",
       "      <th>explained_variance</th>\n",
       "    </tr>\n",
       "  </thead>\n",
       "  <tbody>\n",
       "    <tr>\n",
       "      <th>0</th>\n",
       "      <td>5.58347</td>\n",
       "      <td>53.113665</td>\n",
       "      <td>0.031193</td>\n",
       "      <td>4.42119</td>\n",
       "      <td>0.298546</td>\n",
       "      <td>0.453789</td>\n",
       "    </tr>\n",
       "  </tbody>\n",
       "</table>\n",
       "</div>"
      ],
      "text/plain": [
       "   mean_absolute_error  mean_squared_error  mean_squared_log_error  \\\n",
       "0              5.58347           53.113665                0.031193   \n",
       "\n",
       "   median_absolute_error  r2_score  explained_variance  \n",
       "0                4.42119  0.298546            0.453789  "
      ]
     },
     "execution_count": 44,
     "metadata": {},
     "output_type": "execute_result"
    }
   ],
   "source": [
    "%%bigquery\n",
    "WITH eval_table AS (\n",
    "SELECT\n",
    "  *,\n",
    "  total_three_points_att AS label\n",
    "FROM\n",
    "  `basketball_frenzy.wide_games` )\n",
    "SELECT\n",
    "  *\n",
    "FROM\n",
    "  ML.EVALUATE(MODEL `basketball_frenzy.ncaa_model`,\n",
    "    TABLE eval_table)"
   ]
  },
  {
   "cell_type": "markdown",
   "metadata": {},
   "source": [
    "An important metric in the evaluation results is the mean absolute error. Mean absolute error is the average difference between the predicted label and the actual label."
   ]
  },
  {
   "cell_type": "markdown",
   "metadata": {},
   "source": [
    "# Step seven: Use our model to predict outcomes\n",
    "Now that we have evaluated our model, the next step is to use the ML.PREDICT function to predict the total three point field goal attempts in the 2018 NCAA final game: Michigan versus Villanova."
   ]
  },
  {
   "cell_type": "code",
   "execution_count": 45,
   "metadata": {
    "hiddenCell": true
   },
   "outputs": [
    {
     "data": {
      "text/html": [
       "<div>\n",
       "<style scoped>\n",
       "    .dataframe tbody tr th:only-of-type {\n",
       "        vertical-align: middle;\n",
       "    }\n",
       "\n",
       "    .dataframe tbody tr th {\n",
       "        vertical-align: top;\n",
       "    }\n",
       "\n",
       "    .dataframe thead th {\n",
       "        text-align: right;\n",
       "    }\n",
       "</style>\n",
       "<table border=\"1\" class=\"dataframe\">\n",
       "  <thead>\n",
       "    <tr style=\"text-align: right;\">\n",
       "      <th></th>\n",
       "      <th>game_id</th>\n",
       "      <th>total_three_points_att</th>\n",
       "      <th>predicted_total_three_points_att</th>\n",
       "    </tr>\n",
       "  </thead>\n",
       "  <tbody>\n",
       "    <tr>\n",
       "      <th>0</th>\n",
       "      <td>f1063e80-23c7-486b-9a5e-faa52beb2d83</td>\n",
       "      <td>50</td>\n",
       "      <td>49.215757</td>\n",
       "    </tr>\n",
       "  </tbody>\n",
       "</table>\n",
       "</div>"
      ],
      "text/plain": [
       "                                game_id  total_three_points_att  \\\n",
       "0  f1063e80-23c7-486b-9a5e-faa52beb2d83                      50   \n",
       "\n",
       "   predicted_total_three_points_att  \n",
       "0                         49.215757  "
      ]
     },
     "execution_count": 45,
     "metadata": {},
     "output_type": "execute_result"
    }
   ],
   "source": [
    "%%bigquery\n",
    "  WITH game_to_predict AS (\n",
    "  SELECT\n",
    "    *\n",
    "  FROM\n",
    "    `basketball_frenzy.wide_games`\n",
    "  WHERE\n",
    "    game_id='f1063e80-23c7-486b-9a5e-faa52beb2d83' )\n",
    "SELECT\n",
    "  truth.game_id AS game_id,\n",
    "  total_three_points_att,\n",
    "  predicted_total_three_points_att\n",
    "FROM (\n",
    "  SELECT\n",
    "    game_id,\n",
    "    predicted_label AS predicted_total_three_points_att\n",
    "  FROM\n",
    "    ML.PREDICT(MODEL `basketball_frenzy.ncaa_model`,\n",
    "      table game_to_predict) ) AS predict\n",
    "JOIN (\n",
    "  SELECT\n",
    "    game_id,\n",
    "    total_three_points_att AS total_three_points_att\n",
    "  FROM\n",
    "    game_to_predict) AS truth\n",
    "ON\n",
    "  predict.game_id = truth.game_id"
   ]
  },
  {
   "cell_type": "code",
   "execution_count": null,
   "metadata": {},
   "outputs": [],
   "source": []
  }
 ],
 "metadata": {
  "kernelspec": {
   "display_name": "Python 2",
   "language": "python",
   "name": "python2"
  },
  "language_info": {
   "codemirror_mode": {
    "name": "ipython",
    "version": 2
   },
   "file_extension": ".py",
   "mimetype": "text/x-python",
   "name": "python",
   "nbconvert_exporter": "python",
   "pygments_lexer": "ipython2",
   "version": "2.7.15"
  }
 },
 "nbformat": 4,
 "nbformat_minor": 2
}
